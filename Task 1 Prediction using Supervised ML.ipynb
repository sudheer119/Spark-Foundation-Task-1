{
 "cells": [
  {
   "cell_type": "markdown",
   "metadata": {
    "id": "icfBh_VjI4zW"
   },
   "source": [
    "# Task 1 Prediction using Supervised ML"
   ]
  },
  {
   "cell_type": "markdown",
   "metadata": {},
   "source": [
    "### Importing necessary packages"
   ]
  },
  {
   "cell_type": "code",
   "execution_count": 1,
   "metadata": {
    "id": "gHiKv_SQuPuc"
   },
   "outputs": [],
   "source": [
    "import pandas as pd\n",
    "from sklearn.linear_model import LinearRegression,BayesianRidge\n",
    "from sklearn.cross_decomposition import PLSRegression\n",
    "from sklearn import svm \n",
    "from sklearn import tree\n",
    "from sklearn.ensemble import VotingRegressor\n",
    "from sklearn.neighbors import KNeighborsRegressor \n",
    "from sklearn.model_selection import train_test_split\n",
    "\n",
    "import matplotlib.pyplot as plt\n",
    "from random import sample\n",
    "import numpy as np\n",
    "import math"
   ]
  },
  {
   "cell_type": "markdown",
   "metadata": {
    "id": "cb1vZnuuShMC"
   },
   "source": [
    "## 1)data importing with pandas"
   ]
  },
  {
   "cell_type": "code",
   "execution_count": 2,
   "metadata": {
    "colab": {
     "base_uri": "https://localhost:8080/",
     "height": 824
    },
    "id": "mGBqAT74unpb",
    "outputId": "35b907bf-7960-48aa-9e5d-d1393472b75e"
   },
   "outputs": [
    {
     "data": {
      "text/html": [
       "<div>\n",
       "<style scoped>\n",
       "    .dataframe tbody tr th:only-of-type {\n",
       "        vertical-align: middle;\n",
       "    }\n",
       "\n",
       "    .dataframe tbody tr th {\n",
       "        vertical-align: top;\n",
       "    }\n",
       "\n",
       "    .dataframe thead th {\n",
       "        text-align: right;\n",
       "    }\n",
       "</style>\n",
       "<table border=\"1\" class=\"dataframe\">\n",
       "  <thead>\n",
       "    <tr style=\"text-align: right;\">\n",
       "      <th></th>\n",
       "      <th>Hours</th>\n",
       "      <th>Scores</th>\n",
       "    </tr>\n",
       "  </thead>\n",
       "  <tbody>\n",
       "    <tr>\n",
       "      <th>0</th>\n",
       "      <td>2.5</td>\n",
       "      <td>21</td>\n",
       "    </tr>\n",
       "    <tr>\n",
       "      <th>1</th>\n",
       "      <td>5.1</td>\n",
       "      <td>47</td>\n",
       "    </tr>\n",
       "    <tr>\n",
       "      <th>2</th>\n",
       "      <td>3.2</td>\n",
       "      <td>27</td>\n",
       "    </tr>\n",
       "    <tr>\n",
       "      <th>3</th>\n",
       "      <td>8.5</td>\n",
       "      <td>75</td>\n",
       "    </tr>\n",
       "    <tr>\n",
       "      <th>4</th>\n",
       "      <td>3.5</td>\n",
       "      <td>30</td>\n",
       "    </tr>\n",
       "    <tr>\n",
       "      <th>5</th>\n",
       "      <td>1.5</td>\n",
       "      <td>20</td>\n",
       "    </tr>\n",
       "    <tr>\n",
       "      <th>6</th>\n",
       "      <td>9.2</td>\n",
       "      <td>88</td>\n",
       "    </tr>\n",
       "    <tr>\n",
       "      <th>7</th>\n",
       "      <td>5.5</td>\n",
       "      <td>60</td>\n",
       "    </tr>\n",
       "    <tr>\n",
       "      <th>8</th>\n",
       "      <td>8.3</td>\n",
       "      <td>81</td>\n",
       "    </tr>\n",
       "    <tr>\n",
       "      <th>9</th>\n",
       "      <td>2.7</td>\n",
       "      <td>25</td>\n",
       "    </tr>\n",
       "    <tr>\n",
       "      <th>10</th>\n",
       "      <td>7.7</td>\n",
       "      <td>85</td>\n",
       "    </tr>\n",
       "    <tr>\n",
       "      <th>11</th>\n",
       "      <td>5.9</td>\n",
       "      <td>62</td>\n",
       "    </tr>\n",
       "    <tr>\n",
       "      <th>12</th>\n",
       "      <td>4.5</td>\n",
       "      <td>41</td>\n",
       "    </tr>\n",
       "    <tr>\n",
       "      <th>13</th>\n",
       "      <td>3.3</td>\n",
       "      <td>42</td>\n",
       "    </tr>\n",
       "    <tr>\n",
       "      <th>14</th>\n",
       "      <td>1.1</td>\n",
       "      <td>17</td>\n",
       "    </tr>\n",
       "    <tr>\n",
       "      <th>15</th>\n",
       "      <td>8.9</td>\n",
       "      <td>95</td>\n",
       "    </tr>\n",
       "    <tr>\n",
       "      <th>16</th>\n",
       "      <td>2.5</td>\n",
       "      <td>30</td>\n",
       "    </tr>\n",
       "    <tr>\n",
       "      <th>17</th>\n",
       "      <td>1.9</td>\n",
       "      <td>24</td>\n",
       "    </tr>\n",
       "    <tr>\n",
       "      <th>18</th>\n",
       "      <td>6.1</td>\n",
       "      <td>67</td>\n",
       "    </tr>\n",
       "    <tr>\n",
       "      <th>19</th>\n",
       "      <td>7.4</td>\n",
       "      <td>69</td>\n",
       "    </tr>\n",
       "    <tr>\n",
       "      <th>20</th>\n",
       "      <td>2.7</td>\n",
       "      <td>30</td>\n",
       "    </tr>\n",
       "    <tr>\n",
       "      <th>21</th>\n",
       "      <td>4.8</td>\n",
       "      <td>54</td>\n",
       "    </tr>\n",
       "    <tr>\n",
       "      <th>22</th>\n",
       "      <td>3.8</td>\n",
       "      <td>35</td>\n",
       "    </tr>\n",
       "    <tr>\n",
       "      <th>23</th>\n",
       "      <td>6.9</td>\n",
       "      <td>76</td>\n",
       "    </tr>\n",
       "    <tr>\n",
       "      <th>24</th>\n",
       "      <td>7.8</td>\n",
       "      <td>86</td>\n",
       "    </tr>\n",
       "  </tbody>\n",
       "</table>\n",
       "</div>"
      ],
      "text/plain": [
       "    Hours  Scores\n",
       "0     2.5      21\n",
       "1     5.1      47\n",
       "2     3.2      27\n",
       "3     8.5      75\n",
       "4     3.5      30\n",
       "5     1.5      20\n",
       "6     9.2      88\n",
       "7     5.5      60\n",
       "8     8.3      81\n",
       "9     2.7      25\n",
       "10    7.7      85\n",
       "11    5.9      62\n",
       "12    4.5      41\n",
       "13    3.3      42\n",
       "14    1.1      17\n",
       "15    8.9      95\n",
       "16    2.5      30\n",
       "17    1.9      24\n",
       "18    6.1      67\n",
       "19    7.4      69\n",
       "20    2.7      30\n",
       "21    4.8      54\n",
       "22    3.8      35\n",
       "23    6.9      76\n",
       "24    7.8      86"
      ]
     },
     "execution_count": 2,
     "metadata": {},
     "output_type": "execute_result"
    }
   ],
   "source": [
    "data=pd.read_csv('https://raw.githubusercontent.com/AdiPersonalWorks/Random/master/student_scores%20-%20student_scores.csv')\n",
    "data"
   ]
  },
  {
   "cell_type": "markdown",
   "metadata": {
    "id": "3NqEI313Syih"
   },
   "source": [
    "## 2) checking for outliers"
   ]
  },
  {
   "cell_type": "code",
   "execution_count": 3,
   "metadata": {
    "colab": {
     "base_uri": "https://localhost:8080/",
     "height": 265
    },
    "id": "fBl3MKXMMyZ5",
    "outputId": "6933871e-41aa-441f-ab8b-3b8858c4fe8a"
   },
   "outputs": [
    {
     "data": {
      "image/png": "[encoded data removed]",
      "text/plain": [
       "<Figure size 432x288 with 2 Axes>"
      ]
     },
     "metadata": {
      "needs_background": "light"
     },
     "output_type": "display_data"
    }
   ],
   "source": [
    "figr,axr =  plt.subplots(1,2)\n",
    "axr[0].boxplot(data['Hours'])\n",
    "axr[1].boxplot(data['Scores'])\n",
    "plt.show()"
   ]
  },
  {
   "cell_type": "markdown",
   "metadata": {
    "id": "69Qk0UQGZZt-"
   },
   "source": [
    "### * data does not have any outliers "
   ]
  },
  {
   "cell_type": "markdown",
   "metadata": {
    "id": "6KynSG8FTNJK"
   },
   "source": [
    "## 3) reshaping data because it only contains one dimension"
   ]
  },
  {
   "cell_type": "code",
   "execution_count": 4,
   "metadata": {
    "colab": {
     "base_uri": "https://localhost:8080/"
    },
    "id": "DbdXjm4Uuq2X",
    "outputId": "e00fe840-bc27-425a-922f-f4255b3edfee"
   },
   "outputs": [
    {
     "data": {
      "text/plain": [
       "array([[2.5],\n",
       "       [5.1],\n",
       "       [3.2],\n",
       "       [8.5],\n",
       "       [3.5],\n",
       "       [1.5],\n",
       "       [9.2],\n",
       "       [5.5],\n",
       "       [8.3],\n",
       "       [2.7],\n",
       "       [7.7],\n",
       "       [5.9],\n",
       "       [4.5],\n",
       "       [3.3],\n",
       "       [1.1],\n",
       "       [8.9],\n",
       "       [2.5],\n",
       "       [1.9],\n",
       "       [6.1],\n",
       "       [7.4],\n",
       "       [2.7],\n",
       "       [4.8],\n",
       "       [3.8],\n",
       "       [6.9],\n",
       "       [7.8]])"
      ]
     },
     "execution_count": 4,
     "metadata": {},
     "output_type": "execute_result"
    }
   ],
   "source": [
    "X=data['Hours'].values.reshape(-1,1)\n",
    "X"
   ]
  },
  {
   "cell_type": "markdown",
   "metadata": {
    "id": "-TSuAUzQTVvJ"
   },
   "source": [
    "## 4) using different regression models for regression analysis"
   ]
  },
  {
   "cell_type": "code",
   "execution_count": 5,
   "metadata": {
    "colab": {
     "base_uri": "https://localhost:8080/"
    },
    "id": "V6JQ3aB9uzHk",
    "outputId": "b8d02723-ba50-4724-8694-27777ad928b1"
   },
   "outputs": [
    {
     "data": {
      "text/plain": [
       "VotingRegressor(estimators=[['LR', LinearRegression()], ['BR', BayesianRidge()],\n",
       "                            ['KN', KNeighborsRegressor()],\n",
       "                            ['DT', DecisionTreeRegressor()]])"
      ]
     },
     "execution_count": 5,
     "metadata": {},
     "output_type": "execute_result"
    }
   ],
   "source": [
    "regr1=LinearRegression()\n",
    "regr2 = BayesianRidge()\n",
    "regr3 = svm.SVR()\n",
    "regr4 = KNeighborsRegressor()\n",
    "regr5 = tree.DecisionTreeRegressor()\n",
    "regr6= VotingRegressor(estimators=[['LR',regr1],['BR',regr2],['KN',regr4],['DT',regr5]])\n",
    "regr6"
   ]
  },
  {
   "cell_type": "markdown",
   "metadata": {
    "id": "bPvMBk06TjGF"
   },
   "source": [
    "## 5) spliting the data into train and test"
   ]
  },
  {
   "cell_type": "code",
   "execution_count": 6,
   "metadata": {
    "id": "k3k3S81K8Pqb"
   },
   "outputs": [],
   "source": [
    "X_train,X_test,y_train,y_test=train_test_split(X,data['Scores'],test_size=0.5,random_state=1)"
   ]
  },
  {
   "cell_type": "markdown",
   "metadata": {
    "id": "A1Rnb2yyTtGX"
   },
   "source": [
    "## 6) training data with each model"
   ]
  },
  {
   "cell_type": "code",
   "execution_count": 7,
   "metadata": {
    "colab": {
     "base_uri": "https://localhost:8080/"
    },
    "id": "EKWcLDvpxMfx",
    "outputId": "8ae855a4-f6c3-477b-fd44-634b462e3dc2"
   },
   "outputs": [
    {
     "data": {
      "text/plain": [
       "VotingRegressor(estimators=[['LR', LinearRegression()], ['BR', BayesianRidge()],\n",
       "                            ['KN', KNeighborsRegressor()],\n",
       "                            ['DT', DecisionTreeRegressor()]])"
      ]
     },
     "execution_count": 7,
     "metadata": {},
     "output_type": "execute_result"
    }
   ],
   "source": [
    "regr1.fit(X_train,y_train)\n",
    "regr2.fit(X_train,y_train)\n",
    "regr3.fit(X_train,y_train)\n",
    "regr4.fit(X_train,y_train)\n",
    "regr5.fit(X_train,y_train)\n",
    "regr6.fit(X_train,y_train)"
   ]
  },
  {
   "cell_type": "markdown",
   "metadata": {
    "id": "aJH-ecHGT3Kk"
   },
   "source": [
    "## 7) ploting prediction and actual data"
   ]
  },
  {
   "cell_type": "code",
   "execution_count": 8,
   "metadata": {
    "id": "IersOKumyF8V"
   },
   "outputs": [],
   "source": [
    "Y_pred1 = regr1.predict(X)\n",
    "Y_pred2 = regr2.predict(X)\n",
    "Y_pred3 = regr3.predict(X)\n",
    "Y_pred4 = regr4.predict(X)\n",
    "Y_pred5 = regr5.predict(X)\n",
    "Y_pred6 = regr6.predict(X)"
   ]
  },
  {
   "cell_type": "code",
   "execution_count": 9,
   "metadata": {
    "colab": {
     "base_uri": "https://localhost:8080/",
     "height": 281
    },
    "id": "csSexRWrxSHD",
    "outputId": "5165b1e7-f3ad-4566-b01b-cbeec950cceb"
   },
   "outputs": [
    {
     "data": {
      "image/png": "[encoded data removed]",
      "text/plain": [
       "<Figure size 432x288 with 2 Axes>"
      ]
     },
     "metadata": {
      "needs_background": "light"
     },
     "output_type": "display_data"
    }
   ],
   "source": [
    "figure, axis = plt.subplots(1,2)\n",
    "\n",
    "axis[0].plot(data['Hours'],data['Scores'],'o')\n",
    "axis[0].plot(X,Y_pred1)\n",
    "axis[0].set_title('linear regression')\n",
    "\n",
    "axis[1].plot(data['Hours'],data['Scores'],'o')\n",
    "axis[1].plot(X,Y_pred2)\n",
    "axis[1].set_title('BayesianRidge')\n",
    "plt.show()"
   ]
  },
  {
   "cell_type": "markdown",
   "metadata": {
    "id": "8_B_KH6WUUiw"
   },
   "source": [
    "## 8) evaluation of the test"
   ]
  },
  {
   "cell_type": "code",
   "execution_count": 10,
   "metadata": {
    "id": "l4T3tzYvxT0O"
   },
   "outputs": [],
   "source": [
    "y_pred_test1=regr1.predict(X_test)\n",
    "y_pred_test2=regr2.predict(X_test)\n",
    "y_pred_test3=regr3.predict(X_test)\n",
    "y_pred_test4=regr4.predict(X_test)\n",
    "y_pred_test5=regr5.predict(X_test)\n",
    "y_pred_test6=regr6.predict(X_test)"
   ]
  },
  {
   "cell_type": "code",
   "execution_count": null,
   "metadata": {
    "id": "craxaO80E9Oi"
   },
   "outputs": [],
   "source": []
  },
  {
   "cell_type": "code",
   "execution_count": 11,
   "metadata": {
    "id": "vrQTdfrb2fKI"
   },
   "outputs": [],
   "source": [
    "scoretest = pd.DataFrame({'hours':X_test.reshape(13) ,'Actual Scores': y_test, 'Predicted linearregression': y_pred_test1, 'Predicted BayesianRidge': y_pred_test2, 'Predicted SVM': y_pred_test3,\n",
    "                           'Predicted KNN': y_pred_test4,'Predicted Decisiontree regression': y_pred_test5,'Predicted ensemblemethod': y_pred_test6})\n"
   ]
  },
  {
   "cell_type": "code",
   "execution_count": 12,
   "metadata": {
    "colab": {
     "base_uri": "https://localhost:8080/",
     "height": 452
    },
    "id": "AyS_rCfUGIna",
    "outputId": "60fa4760-ee6a-4085-cea0-12ea0ce8e26c"
   },
   "outputs": [
    {
     "data": {
      "text/html": [
       "<div>\n",
       "<style scoped>\n",
       "    .dataframe tbody tr th:only-of-type {\n",
       "        vertical-align: middle;\n",
       "    }\n",
       "\n",
       "    .dataframe tbody tr th {\n",
       "        vertical-align: top;\n",
       "    }\n",
       "\n",
       "    .dataframe thead th {\n",
       "        text-align: right;\n",
       "    }\n",
       "</style>\n",
       "<table border=\"1\" class=\"dataframe\">\n",
       "  <thead>\n",
       "    <tr style=\"text-align: right;\">\n",
       "      <th></th>\n",
       "      <th>hours</th>\n",
       "      <th>Actual Scores</th>\n",
       "      <th>Predicted linearregression</th>\n",
       "      <th>Predicted BayesianRidge</th>\n",
       "      <th>Predicted SVM</th>\n",
       "      <th>Predicted KNN</th>\n",
       "      <th>Predicted Decisiontree regression</th>\n",
       "      <th>Predicted ensemblemethod</th>\n",
       "    </tr>\n",
       "  </thead>\n",
       "  <tbody>\n",
       "    <tr>\n",
       "      <th>14</th>\n",
       "      <td>1.1</td>\n",
       "      <td>17</td>\n",
       "      <td>9.752616</td>\n",
       "      <td>9.861033</td>\n",
       "      <td>41.212913</td>\n",
       "      <td>26.2</td>\n",
       "      <td>20.0</td>\n",
       "      <td>16.453412</td>\n",
       "    </tr>\n",
       "    <tr>\n",
       "      <th>13</th>\n",
       "      <td>3.3</td>\n",
       "      <td>42</td>\n",
       "      <td>33.149458</td>\n",
       "      <td>33.197235</td>\n",
       "      <td>40.598793</td>\n",
       "      <td>30.4</td>\n",
       "      <td>35.0</td>\n",
       "      <td>32.936673</td>\n",
       "    </tr>\n",
       "    <tr>\n",
       "      <th>17</th>\n",
       "      <td>1.9</td>\n",
       "      <td>24</td>\n",
       "      <td>18.260558</td>\n",
       "      <td>18.346925</td>\n",
       "      <td>40.250769</td>\n",
       "      <td>26.2</td>\n",
       "      <td>20.0</td>\n",
       "      <td>20.701871</td>\n",
       "    </tr>\n",
       "    <tr>\n",
       "      <th>3</th>\n",
       "      <td>8.5</td>\n",
       "      <td>75</td>\n",
       "      <td>88.451084</td>\n",
       "      <td>88.355530</td>\n",
       "      <td>48.486615</td>\n",
       "      <td>80.0</td>\n",
       "      <td>81.0</td>\n",
       "      <td>84.451654</td>\n",
       "    </tr>\n",
       "    <tr>\n",
       "      <th>21</th>\n",
       "      <td>4.8</td>\n",
       "      <td>54</td>\n",
       "      <td>49.101850</td>\n",
       "      <td>49.108282</td>\n",
       "      <td>43.998290</td>\n",
       "      <td>42.0</td>\n",
       "      <td>47.0</td>\n",
       "      <td>46.802533</td>\n",
       "    </tr>\n",
       "    <tr>\n",
       "      <th>10</th>\n",
       "      <td>7.7</td>\n",
       "      <td>85</td>\n",
       "      <td>79.943142</td>\n",
       "      <td>79.869638</td>\n",
       "      <td>48.821135</td>\n",
       "      <td>80.0</td>\n",
       "      <td>86.0</td>\n",
       "      <td>81.453195</td>\n",
       "    </tr>\n",
       "    <tr>\n",
       "      <th>18</th>\n",
       "      <td>6.1</td>\n",
       "      <td>67</td>\n",
       "      <td>62.927257</td>\n",
       "      <td>62.897855</td>\n",
       "      <td>47.206193</td>\n",
       "      <td>62.4</td>\n",
       "      <td>62.0</td>\n",
       "      <td>62.556278</td>\n",
       "    </tr>\n",
       "    <tr>\n",
       "      <th>19</th>\n",
       "      <td>7.4</td>\n",
       "      <td>69</td>\n",
       "      <td>76.752663</td>\n",
       "      <td>76.687429</td>\n",
       "      <td>48.760910</td>\n",
       "      <td>80.0</td>\n",
       "      <td>86.0</td>\n",
       "      <td>79.860023</td>\n",
       "    </tr>\n",
       "    <tr>\n",
       "      <th>4</th>\n",
       "      <td>3.5</td>\n",
       "      <td>30</td>\n",
       "      <td>35.276443</td>\n",
       "      <td>35.318708</td>\n",
       "      <td>40.909923</td>\n",
       "      <td>30.4</td>\n",
       "      <td>35.0</td>\n",
       "      <td>33.998788</td>\n",
       "    </tr>\n",
       "    <tr>\n",
       "      <th>2</th>\n",
       "      <td>3.2</td>\n",
       "      <td>27</td>\n",
       "      <td>32.085965</td>\n",
       "      <td>32.136499</td>\n",
       "      <td>40.466640</td>\n",
       "      <td>30.4</td>\n",
       "      <td>25.0</td>\n",
       "      <td>29.905616</td>\n",
       "    </tr>\n",
       "    <tr>\n",
       "      <th>20</th>\n",
       "      <td>2.7</td>\n",
       "      <td>30</td>\n",
       "      <td>26.768501</td>\n",
       "      <td>26.832816</td>\n",
       "      <td>40.056041</td>\n",
       "      <td>26.2</td>\n",
       "      <td>25.0</td>\n",
       "      <td>26.200329</td>\n",
       "    </tr>\n",
       "    <tr>\n",
       "      <th>6</th>\n",
       "      <td>9.2</td>\n",
       "      <td>88</td>\n",
       "      <td>95.895534</td>\n",
       "      <td>95.780685</td>\n",
       "      <td>47.752653</td>\n",
       "      <td>80.0</td>\n",
       "      <td>95.0</td>\n",
       "      <td>91.669055</td>\n",
       "    </tr>\n",
       "    <tr>\n",
       "      <th>7</th>\n",
       "      <td>5.5</td>\n",
       "      <td>60</td>\n",
       "      <td>56.546300</td>\n",
       "      <td>56.533437</td>\n",
       "      <td>45.856321</td>\n",
       "      <td>52.2</td>\n",
       "      <td>47.0</td>\n",
       "      <td>53.069934</td>\n",
       "    </tr>\n",
       "  </tbody>\n",
       "</table>\n",
       "</div>"
      ],
      "text/plain": [
       "    hours  Actual Scores  Predicted linearregression  Predicted BayesianRidge  \\\n",
       "14    1.1             17                    9.752616                 9.861033   \n",
       "13    3.3             42                   33.149458                33.197235   \n",
       "17    1.9             24                   18.260558                18.346925   \n",
       "3     8.5             75                   88.451084                88.355530   \n",
       "21    4.8             54                   49.101850                49.108282   \n",
       "10    7.7             85                   79.943142                79.869638   \n",
       "18    6.1             67                   62.927257                62.897855   \n",
       "19    7.4             69                   76.752663                76.687429   \n",
       "4     3.5             30                   35.276443                35.318708   \n",
       "2     3.2             27                   32.085965                32.136499   \n",
       "20    2.7             30                   26.768501                26.832816   \n",
       "6     9.2             88                   95.895534                95.780685   \n",
       "7     5.5             60                   56.546300                56.533437   \n",
       "\n",
       "    Predicted SVM  Predicted KNN  Predicted Decisiontree regression  \\\n",
       "14      41.212913           26.2                               20.0   \n",
       "13      40.598793           30.4                               35.0   \n",
       "17      40.250769           26.2                               20.0   \n",
       "3       48.486615           80.0                               81.0   \n",
       "21      43.998290           42.0                               47.0   \n",
       "10      48.821135           80.0                               86.0   \n",
       "18      47.206193           62.4                               62.0   \n",
       "19      48.760910           80.0                               86.0   \n",
       "4       40.909923           30.4                               35.0   \n",
       "2       40.466640           30.4                               25.0   \n",
       "20      40.056041           26.2                               25.0   \n",
       "6       47.752653           80.0                               95.0   \n",
       "7       45.856321           52.2                               47.0   \n",
       "\n",
       "    Predicted ensemblemethod  \n",
       "14                 16.453412  \n",
       "13                 32.936673  \n",
       "17                 20.701871  \n",
       "3                  84.451654  \n",
       "21                 46.802533  \n",
       "10                 81.453195  \n",
       "18                 62.556278  \n",
       "19                 79.860023  \n",
       "4                  33.998788  \n",
       "2                  29.905616  \n",
       "20                 26.200329  \n",
       "6                  91.669055  \n",
       "7                  53.069934  "
      ]
     },
     "execution_count": 12,
     "metadata": {},
     "output_type": "execute_result"
    }
   ],
   "source": [
    "scoretest"
   ]
  },
  {
   "cell_type": "markdown",
   "metadata": {
    "id": "IQb63stuWJjE"
   },
   "source": [
    "### *  metrics test with MAPE(mean absolute percentage error)"
   ]
  },
  {
   "cell_type": "code",
   "execution_count": 13,
   "metadata": {
    "id": "NZwcwJaM55tX"
   },
   "outputs": [],
   "source": [
    "def MAPE(Y_actual,Y_Predicted):\n",
    "    mape = np.mean(np.abs((Y_actual - Y_Predicted)/Y_actual))*100\n",
    "    return mape"
   ]
  },
  {
   "cell_type": "code",
   "execution_count": 14,
   "metadata": {
    "colab": {
     "base_uri": "https://localhost:8080/"
    },
    "id": "yLmnAuHc28i_",
    "outputId": "db6dbfe0-2179-40a5-fc28-2438dfacc5a8"
   },
   "outputs": [
    {
     "name": "stdout",
     "output_type": "stream",
     "text": [
      "MAPE for linear           : 15.37%\n",
      "MAPE for BayesianRidge    : 15.28%\n",
      "MAPE for SVM              : 42.91%\n",
      "MAPE for KNeign           : 15.17%\n",
      "MAPE for Decisiontree     : 13.51%\n",
      "MAPE for Votingensemble   : 11.04%\n"
     ]
    }
   ],
   "source": [
    "from sklearn import metrics\n",
    "print('{:<25} : {}{}'.format('MAPE for linear',round(MAPE(y_test, y_pred_test1),2),'%'))  \n",
    "print('{:<25} : {}{}'.format('MAPE for BayesianRidge',round(MAPE(y_test, y_pred_test2),2),'%'))  \n",
    "print('{:<25} : {}{}'.format('MAPE for SVM',round(MAPE(y_test, y_pred_test3),2),'%'))  \n",
    "print('{:<25} : {}{}'.format('MAPE for KNeign',round(MAPE(y_test, y_pred_test4),2),'%'))  \n",
    "print('{:<25} : {}{}'.format('MAPE for Decisiontree',round(MAPE(y_test, y_pred_test5),2),'%'))  \n",
    "print('{:<25} : {}{}'.format('MAPE for Votingensemble',round(MAPE(y_test, y_pred_test6),2),'%'))  "
   ]
  },
  {
   "cell_type": "code",
   "execution_count": 15,
   "metadata": {
    "colab": {
     "base_uri": "https://localhost:8080/"
    },
    "id": "aErz2JsB7b24",
    "outputId": "34efddeb-6876-418c-d9b4-181326c28973"
   },
   "outputs": [
    {
     "name": "stdout",
     "output_type": "stream",
     "text": [
      "prediction for 9.25hours by linear            : 96.42728050984495\n",
      "prediction for 9.25hours by BayesianRidge     : 96.31105336336296\n",
      "prediction for 9.25hours by SVM               : 47.69064538415985\n",
      "prediction for 9.25hours by KNeign            : 80.0\n",
      "prediction for 9.25hours by Decisiontree      : 95.0\n",
      "prediction for 9.25hours by Votingensemble    : 91.93458346830198\n"
     ]
    }
   ],
   "source": [
    "print('{:<45} : {}'.format('prediction for 9.25hours by linear',regr1.predict([[9.25]])[0]))\n",
    "print('{:<45} : {}'.format('prediction for 9.25hours by BayesianRidge',regr2.predict([[9.25]])[0]))\n",
    "print('{:<45} : {}'.format('prediction for 9.25hours by SVM',regr3.predict([[9.25]])[0]))\n",
    "print('{:<45} : {}'.format('prediction for 9.25hours by KNeign',regr4.predict([[9.25]])[0]))\n",
    "print('{:<45} : {}'.format('prediction for 9.25hours by Decisiontree',regr5.predict([[9.25]])[0]))\n",
    "print('{:<45} : {}'.format('prediction for 9.25hours by Votingensemble',regr6.predict([[9.25]])[0]))\n"
   ]
  },
  {
   "cell_type": "markdown",
   "metadata": {
    "id": "lGXwxi5XXpEF"
   },
   "source": [
    "## 9) final result"
   ]
  },
  {
   "cell_type": "markdown",
   "metadata": {
    "id": "vfDTT_0xX19q"
   },
   "source": [
    "### with 11%  error which is less camparing with other model, Voting emsemble model's prediction is :-\n",
    "\n",
    "###***for 9.25 hours you can score 91.9 marks***"
   ]
  }
 ],
 "metadata": {
  "colab": {
   "name": "intern.ipynb",
   "provenance": []
  },
  "kernelspec": {
   "display_name": "Python 3",
   "language": "python",
   "name": "python3"
  },
  "language_info": {
   "codemirror_mode": {
    "name": "ipython",
    "version": 3
   },
   "file_extension": ".py",
   "mimetype": "text/x-python",
   "name": "python",
   "nbconvert_exporter": "python",
   "pygments_lexer": "ipython3",
   "version": "3.7.9"
  }
 },
 "nbformat": 4,
 "nbformat_minor": 1
}
